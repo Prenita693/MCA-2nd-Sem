{
 "cells": [
  {
   "cell_type": "code",
   "execution_count": 1,
   "id": "47af1376-af6c-44ca-8062-069c6f8277b3",
   "metadata": {},
   "outputs": [
    {
     "name": "stdout",
     "output_type": "stream",
     "text": [
      "Original Message: Hello, this is a sample message for encoding.\n",
      "Encoded Message (Base64): SGVsbG8sIHRoaXMgaXMgYSBzYW1wbGUgbWVzc2FnZSBmb3IgZW5jb2Rpbmcu\n"
     ]
    }
   ],
   "source": [
    "import base64\n",
    "# Message to be encoded\n",
    "original_message = \"Hello, this is a sample message for encoding.\"\n",
    "\n",
    "# Encode the message to base64\n",
    "encoded_message = base64.b64encode(original_message.encode('utf-8')).decode('utf-8')\n",
    "\n",
    "# Display the results\n",
    "print(\"Original Message:\", original_message)\n",
    "print(\"Encoded Message (Base64):\", encoded_message)\n"
   ]
  },
  {
   "cell_type": "code",
   "execution_count": null,
   "id": "ac796e4c-57f8-4f83-90b6-4c051d6f601d",
   "metadata": {},
   "outputs": [],
   "source": []
  },
  {
   "cell_type": "code",
   "execution_count": null,
   "id": "420b7f6f-e401-4c68-9dae-46a874797773",
   "metadata": {},
   "outputs": [],
   "source": []
  }
 ],
 "metadata": {
  "kernelspec": {
   "display_name": "Python 3 (ipykernel)",
   "language": "python",
   "name": "python3"
  },
  "language_info": {
   "codemirror_mode": {
    "name": "ipython",
    "version": 3
   },
   "file_extension": ".py",
   "mimetype": "text/x-python",
   "name": "python",
   "nbconvert_exporter": "python",
   "pygments_lexer": "ipython3",
   "version": "3.12.7"
  }
 },
 "nbformat": 4,
 "nbformat_minor": 5
}
