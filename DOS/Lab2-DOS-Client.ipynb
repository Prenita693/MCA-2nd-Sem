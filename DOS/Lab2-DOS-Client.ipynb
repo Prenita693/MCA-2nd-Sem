{
 "cells": [
  {
   "cell_type": "code",
   "execution_count": 1,
   "id": "e6f112b2-cd27-4a8e-887c-b226d052076d",
   "metadata": {},
   "outputs": [
    {
     "name": "stdout",
     "output_type": "stream",
     "text": [
      "Result of remote addition: 20\n"
     ]
    }
   ],
   "source": [
    "# rpc_client.py\n",
    "import xmlrpc.client\n",
    "\n",
    "# Create server proxy\n",
    "proxy = xmlrpc.client.ServerProxy(\"http://localhost:8000/RPC2\")\n",
    "\n",
    "# Remote function call\n",
    "result = proxy.add(15, 5)\n",
    "print(f\"Result of remote addition: {result}\")\n"
   ]
  },
  {
   "cell_type": "code",
   "execution_count": null,
   "id": "59b882eb-a4d7-4b26-b8c2-f2070192628e",
   "metadata": {},
   "outputs": [],
   "source": []
  }
 ],
 "metadata": {
  "kernelspec": {
   "display_name": "Python 3 (ipykernel)",
   "language": "python",
   "name": "python3"
  },
  "language_info": {
   "codemirror_mode": {
    "name": "ipython",
    "version": 3
   },
   "file_extension": ".py",
   "mimetype": "text/x-python",
   "name": "python",
   "nbconvert_exporter": "python",
   "pygments_lexer": "ipython3",
   "version": "3.12.7"
  }
 },
 "nbformat": 4,
 "nbformat_minor": 5
}
