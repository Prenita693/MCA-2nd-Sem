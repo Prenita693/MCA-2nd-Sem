{
 "cells": [
  {
   "cell_type": "code",
   "execution_count": null,
   "id": "178529de-5872-466f-b15a-d50e6532afff",
   "metadata": {},
   "outputs": [
    {
     "name": "stdout",
     "output_type": "stream",
     "text": [
      "Server listening on port 8000...\n"
     ]
    },
    {
     "name": "stderr",
     "output_type": "stream",
     "text": [
      "127.0.0.1 - - [14/May/2025 08:33:16] \"POST /RPC2 HTTP/1.1\" 200 -\n"
     ]
    }
   ],
   "source": [
    "# rpc_server.py\n",
    "from xmlrpc.server import SimpleXMLRPCServer\n",
    "from xmlrpc.server import SimpleXMLRPCRequestHandler\n",
    "# Restrict to a particular path\n",
    "class RequestHandler(SimpleXMLRPCRequestHandler):\n",
    "    rpc_paths = ('/RPC2',)\n",
    "\n",
    "# Create server\n",
    "with SimpleXMLRPCServer(('localhost', 8000),\n",
    "                        requestHandler=RequestHandler) as server:\n",
    "    server.register_introspection_functions()\n",
    "\n",
    "    # Function to add two numbers remotely\n",
    "    def add(x, y):\n",
    "        return x + y\n",
    "\n",
    "    # Register the function\n",
    "    server.register_function(add, 'add')\n",
    "\n",
    "    # Run the server\n",
    "    print(\"Server listening on port 8000...\")\n",
    "    server.serve_forever()\n"
   ]
  }
 ],
 "metadata": {
  "kernelspec": {
   "display_name": "Python 3 (ipykernel)",
   "language": "python",
   "name": "python3"
  },
  "language_info": {
   "codemirror_mode": {
    "name": "ipython",
    "version": 3
   },
   "file_extension": ".py",
   "mimetype": "text/x-python",
   "name": "python",
   "nbconvert_exporter": "python",
   "pygments_lexer": "ipython3",
   "version": "3.12.7"
  }
 },
 "nbformat": 4,
 "nbformat_minor": 5
}
