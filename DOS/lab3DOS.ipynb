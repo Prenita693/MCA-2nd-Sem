{
 "cells": [
  {
   "cell_type": "code",
   "execution_count": 1,
   "id": "c1cbbb85-9b5f-4429-bb40-a9c000c0f598",
   "metadata": {},
   "outputs": [
    {
     "name": "stdout",
     "output_type": "stream",
     "text": [
      "Data read from file: Hello, world!\n",
      "\n"
     ]
    }
   ],
   "source": [
    "import os\n",
    "# Writing to a file\n",
    "with open(\"output.txt\", \"w\") as file:\n",
    "    message = \"Hello, world!\\n\"\n",
    "    file.write(message)\n",
    "# Reading from a file\n",
    "with open(\"output.txt\", \"r\") as file:\n",
    "    data = file.read()\n",
    "    print(\"Data read from file:\", data)\n",
    "# Removing the file\n",
    "os.remove(\"output.txt\")\n"
   ]
  },
  {
   "cell_type": "code",
   "execution_count": null,
   "id": "9ac96f46-09f9-4557-9852-6215fe2b76fe",
   "metadata": {},
   "outputs": [],
   "source": []
  }
 ],
 "metadata": {
  "kernelspec": {
   "display_name": "Python 3 (ipykernel)",
   "language": "python",
   "name": "python3"
  },
  "language_info": {
   "codemirror_mode": {
    "name": "ipython",
    "version": 3
   },
   "file_extension": ".py",
   "mimetype": "text/x-python",
   "name": "python",
   "nbconvert_exporter": "python",
   "pygments_lexer": "ipython3",
   "version": "3.12.7"
  }
 },
 "nbformat": 4,
 "nbformat_minor": 5
}
