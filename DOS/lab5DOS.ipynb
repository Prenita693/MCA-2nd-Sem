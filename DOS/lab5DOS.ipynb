{
 "cells": [
  {
   "cell_type": "code",
   "execution_count": 2,
   "id": "3dbee9f2-38c9-4e5f-98a1-4c177026ef90",
   "metadata": {},
   "outputs": [
    {
     "name": "stdout",
     "output_type": "stream",
     "text": [
      "Encoded Message (Base64): YS5wLnRoYW5nYW11dGh1\n",
      "Decoded Message: a.p.thangamuthu\n"
     ]
    }
   ],
   "source": [
    "import base64\n",
    "\n",
    "# Encoded message to be decoded\n",
    "encoded_message = \"YS5wLnRoYW5nYW11dGh1\"\n",
    "\n",
    "# Decode the message from base64\n",
    "decoded_message = base64.b64decode(encoded_message).decode('utf-8')\n",
    "\n",
    "# Display the results\n",
    "print(\"Encoded Message (Base64):\", encoded_message)\n",
    "print(\"Decoded Message:\", decoded_message)\n"
   ]
  },
  {
   "cell_type": "code",
   "execution_count": null,
   "id": "24448938-a7b5-410c-aad2-cee54f5a542a",
   "metadata": {},
   "outputs": [],
   "source": []
  }
 ],
 "metadata": {
  "kernelspec": {
   "display_name": "Python 3 (ipykernel)",
   "language": "python",
   "name": "python3"
  },
  "language_info": {
   "codemirror_mode": {
    "name": "ipython",
    "version": 3
   },
   "file_extension": ".py",
   "mimetype": "text/x-python",
   "name": "python",
   "nbconvert_exporter": "python",
   "pygments_lexer": "ipython3",
   "version": "3.12.7"
  }
 },
 "nbformat": 4,
 "nbformat_minor": 5
}
