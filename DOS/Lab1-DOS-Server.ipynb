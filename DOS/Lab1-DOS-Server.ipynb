{
 "cells": [
  {
   "cell_type": "code",
   "execution_count": 3,
   "id": "72cd9b70-e95c-4759-9258-b4daba3e95a8",
   "metadata": {},
   "outputs": [
    {
     "name": "stdout",
     "output_type": "stream",
     "text": [
      "server created\n",
      "waiting for connection\n",
      "<socket.socket fd=928, family=2, type=1, proto=0, laddr=('127.0.0.1', 9992), raddr=('127.0.0.1', 49295)> ('127.0.0.1', 49295)\n",
      "b'welcome'\n"
     ]
    }
   ],
   "source": [
    "import socket\n",
    "s=socket.socket()\n",
    "print(\"server created\")\n",
    "s.bind(('localhost', 9992))\n",
    "s.listen(3)\n",
    "print('waiting for connection')\n",
    "c,addr=s.accept()\n",
    "print(c,addr)\n",
    "recvdmsg=c.recv(1024)\n",
    "print(recvdmsg)\n",
    "c.close()\n",
    "\n"
   ]
  },
  {
   "cell_type": "code",
   "execution_count": null,
   "id": "3b588ca0-237d-4121-af4e-a243c773f169",
   "metadata": {},
   "outputs": [],
   "source": []
  }
 ],
 "metadata": {
  "kernelspec": {
   "display_name": "Python 3 (ipykernel)",
   "language": "python",
   "name": "python3"
  },
  "language_info": {
   "codemirror_mode": {
    "name": "ipython",
    "version": 3
   },
   "file_extension": ".py",
   "mimetype": "text/x-python",
   "name": "python",
   "nbconvert_exporter": "python",
   "pygments_lexer": "ipython3",
   "version": "3.12.7"
  }
 },
 "nbformat": 4,
 "nbformat_minor": 5
}
