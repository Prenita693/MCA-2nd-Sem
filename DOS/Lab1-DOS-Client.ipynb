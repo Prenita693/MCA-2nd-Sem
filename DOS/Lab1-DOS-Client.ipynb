{
 "cells": [
  {
   "cell_type": "code",
   "execution_count": 5,
   "id": "cdc6a26d-5d7a-43a8-80dd-b1483dd74eb4",
   "metadata": {},
   "outputs": [],
   "source": [
    "import socket\n",
    "c=socket.socket()\n",
    "c.connect(('localhost',9992))\n",
    "c.send(bytes('welcome','UTF8'))\n",
    "c.close()"
   ]
  },
  {
   "cell_type": "code",
   "execution_count": null,
   "id": "6f8828e4-4195-4a77-a57e-efdd88cb792a",
   "metadata": {},
   "outputs": [],
   "source": []
  },
  {
   "cell_type": "code",
   "execution_count": null,
   "id": "a4e3e9fc-cdd8-4851-9af1-997922166d5b",
   "metadata": {},
   "outputs": [],
   "source": []
  }
 ],
 "metadata": {
  "kernelspec": {
   "display_name": "Python 3 (ipykernel)",
   "language": "python",
   "name": "python3"
  },
  "language_info": {
   "codemirror_mode": {
    "name": "ipython",
    "version": 3
   },
   "file_extension": ".py",
   "mimetype": "text/x-python",
   "name": "python",
   "nbconvert_exporter": "python",
   "pygments_lexer": "ipython3",
   "version": "3.12.7"
  }
 },
 "nbformat": 4,
 "nbformat_minor": 5
}
