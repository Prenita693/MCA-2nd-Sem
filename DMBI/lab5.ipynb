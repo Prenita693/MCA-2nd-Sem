{
 "cells": [
  {
   "cell_type": "code",
   "execution_count": 1,
   "id": "56baceae-2818-4412-b381-982f796832bc",
   "metadata": {},
   "outputs": [],
   "source": [
    "from sklearn.feature_extraction.text import CountVectorizer\n",
    "from sklearn.naive_bayes import MultinomialNB\n",
    "from sklearn.metrics import accuracy_score\n"
   ]
  },
  {
   "cell_type": "code",
   "execution_count": 2,
   "id": "283db2fa-e1b9-4e6a-b4d4-7c4cfbc6ea5c",
   "metadata": {},
   "outputs": [],
   "source": [
    "texts = [\n",
    "    \"I love this product\",       # Positive\n",
    "    \"This is an amazing item\",  # Positive\n",
    "    \"I hate this\",              # Negative\n",
    "    \"This is terrible\",         # Negative\n",
    "    \"I enjoy using this\",       # Positive\n",
    "    \"This is the worst\"         # Negative\n",
    "]\n",
    "labels = [\"positive\", \"positive\", \"negative\", \"negative\", \"positive\", \"negative\"]\n"
   ]
  },
  {
   "cell_type": "code",
   "execution_count": 3,
   "id": "f45faa6d-525b-46c4-9bf1-05053a54242e",
   "metadata": {},
   "outputs": [],
   "source": [
    "vectorizer = CountVectorizer()\n",
    "X = vectorizer.fit_transform(texts)\n",
    "X_train = X[:4]\n",
    "X_test = X[4:]\n",
    "y_train = labels[:4]\n",
    "y_test = labels[4:]\n"
   ]
  },
  {
   "cell_type": "code",
   "execution_count": 4,
   "id": "b6356d7a-15a7-454b-a92e-2995833f9405",
   "metadata": {},
   "outputs": [],
   "source": [
    "classifier = MultinomialNB()\n",
    "classifier.fit(X_train, y_train)\n",
    "y_pred = classifier.predict(X_test)\n"
   ]
  },
  {
   "cell_type": "code",
   "execution_count": 5,
   "id": "900aeb0b-a868-4577-b8a9-8312402f0d34",
   "metadata": {},
   "outputs": [
    {
     "name": "stdout",
     "output_type": "stream",
     "text": [
      "Accuracy: 0.5\n",
      "Predictions: ['negative' 'negative']\n",
      "New Predictions: ['negative' 'negative']\n"
     ]
    }
   ],
   "source": [
    "print(\"Accuracy:\", accuracy_score(y_test, y_pred))\n",
    "print(\"Predictions:\", y_pred)\n",
    "new_texts = [\"I like this\", \"This is awful\"]\n",
    "new_vectors = vectorizer.transform(new_texts)\n",
    "new_predictions = classifier.predict(new_vectors)\n",
    "print(\"New Predictions:\", new_predictions)\n"
   ]
  },
  {
   "cell_type": "code",
   "execution_count": null,
   "id": "fb20c80f-b030-476a-884d-e0be898cdcfd",
   "metadata": {},
   "outputs": [],
   "source": []
  }
 ],
 "metadata": {
  "kernelspec": {
   "display_name": "Python 3 (ipykernel)",
   "language": "python",
   "name": "python3"
  },
  "language_info": {
   "codemirror_mode": {
    "name": "ipython",
    "version": 3
   },
   "file_extension": ".py",
   "mimetype": "text/x-python",
   "name": "python",
   "nbconvert_exporter": "python",
   "pygments_lexer": "ipython3",
   "version": "3.12.7"
  }
 },
 "nbformat": 4,
 "nbformat_minor": 5
}
