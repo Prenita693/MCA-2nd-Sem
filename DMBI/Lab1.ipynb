{
 "cells": [
  {
   "cell_type": "code",
   "execution_count": 1,
   "id": "d325b9fd-03d8-48b1-8614-f1b9fb5c922d",
   "metadata": {},
   "outputs": [
    {
     "name": "stdout",
     "output_type": "stream",
     "text": [
      "Original Data:\n",
      "    Age   Salary  Score\n",
      "0  25.0  50000.0   90.0\n",
      "1  30.0  60000.0   85.0\n",
      "2   NaN  55000.0   88.0\n",
      "3  35.0      NaN   75.0\n",
      "4  40.0  65000.0    NaN\n",
      "\n",
      "Data After Handling Missing Value:\n",
      "    Age   Salary  Score\n",
      "0  25.0  50000.0   90.0\n",
      "1  30.0  60000.0   85.0\n",
      "2  32.5  55000.0   88.0\n",
      "3  35.0  57500.0   75.0\n",
      "4  40.0  65000.0   75.0\n",
      "/nNormalized Data:\n",
      "        Age    Salary     Score\n",
      "0  0.000000  0.000000  1.000000\n",
      "1  0.333333  0.666667  0.666667\n",
      "2  0.500000  0.333333  0.866667\n",
      "3  0.666667  0.500000  0.000000\n",
      "4  1.000000  1.000000  0.000000\n"
     ]
    },
    {
     "name": "stderr",
     "output_type": "stream",
     "text": [
      "C:\\Users\\Toijam Prenita Devi\\AppData\\Local\\Temp\\ipykernel_42664\\1592178160.py:14: FutureWarning: A value is trying to be set on a copy of a DataFrame or Series through chained assignment using an inplace method.\n",
      "The behavior will change in pandas 3.0. This inplace method will never work because the intermediate object on which we are setting values always behaves as a copy.\n",
      "\n",
      "For example, when doing 'df[col].method(value, inplace=True)', try using 'df.method({col: value}, inplace=True)' or df[col] = df[col].method(value) instead, to perform the operation inplace on the original object.\n",
      "\n",
      "\n",
      "  df['Age'].fillna(df['Age'].mean(), inplace=True)\n",
      "C:\\Users\\Toijam Prenita Devi\\AppData\\Local\\Temp\\ipykernel_42664\\1592178160.py:15: FutureWarning: A value is trying to be set on a copy of a DataFrame or Series through chained assignment using an inplace method.\n",
      "The behavior will change in pandas 3.0. This inplace method will never work because the intermediate object on which we are setting values always behaves as a copy.\n",
      "\n",
      "For example, when doing 'df[col].method(value, inplace=True)', try using 'df.method({col: value}, inplace=True)' or df[col] = df[col].method(value) instead, to perform the operation inplace on the original object.\n",
      "\n",
      "\n",
      "  df['Salary'].fillna(df['Salary'].median(),inplace=True)\n",
      "C:\\Users\\Toijam Prenita Devi\\AppData\\Local\\Temp\\ipykernel_42664\\1592178160.py:16: FutureWarning: A value is trying to be set on a copy of a DataFrame or Series through chained assignment using an inplace method.\n",
      "The behavior will change in pandas 3.0. This inplace method will never work because the intermediate object on which we are setting values always behaves as a copy.\n",
      "\n",
      "For example, when doing 'df[col].method(value, inplace=True)', try using 'df.method({col: value}, inplace=True)' or df[col] = df[col].method(value) instead, to perform the operation inplace on the original object.\n",
      "\n",
      "\n",
      "  df['Score'].fillna(df['Score'].mode()[0], inplace=True)\n"
     ]
    }
   ],
   "source": [
    "import pandas as pd\n",
    "import numpy as np\n",
    "from sklearn.preprocessing import MinMaxScaler\n",
    "\n",
    "data = {\n",
    "    'Age': [25, 30, np.nan, 35, 40],\n",
    "    'Salary': [50000, 60000, 55000, np.nan, 65000],\n",
    "    'Score': [90, 85, 88, 75, np.nan]\n",
    "}\n",
    "df = pd.DataFrame(data)\n",
    "print(\"Original Data:\")\n",
    "print(df)\n",
    "\n",
    "df['Age'].fillna(df['Age'].mean(), inplace=True)\n",
    "df['Salary'].fillna(df['Salary'].median(),inplace=True)\n",
    "df['Score'].fillna(df['Score'].mode()[0], inplace=True)\n",
    "print(\"\\nData After Handling Missing Value:\")\n",
    "print(df)\n",
    "scaler = MinMaxScaler()\n",
    "df_normalized = pd.DataFrame(scaler.fit_transform(df), columns=df.columns)\n",
    "print(\"/nNormalized Data:\")\n",
    "print(df_normalized)"
   ]
  },
  {
   "cell_type": "code",
   "execution_count": null,
   "id": "2e1053e1-3063-4285-b8a5-872def7c57b5",
   "metadata": {},
   "outputs": [],
   "source": []
  }
 ],
 "metadata": {
  "kernelspec": {
   "display_name": "Python 3 (ipykernel)",
   "language": "python",
   "name": "python3"
  },
  "language_info": {
   "codemirror_mode": {
    "name": "ipython",
    "version": 3
   },
   "file_extension": ".py",
   "mimetype": "text/x-python",
   "name": "python",
   "nbconvert_exporter": "python",
   "pygments_lexer": "ipython3",
   "version": "3.12.7"
  }
 },
 "nbformat": 4,
 "nbformat_minor": 5
}
